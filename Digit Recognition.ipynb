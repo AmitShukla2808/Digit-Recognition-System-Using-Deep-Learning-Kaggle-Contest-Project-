{
 "cells": [
  {
   "cell_type": "markdown",
   "metadata": {},
   "source": [
    "# MNIST Handwritten Digit Recognition Using Deep Learning / Neural Networks\n",
    "The MNIST dataset is one of the world's biggest datasets for Handwritten digits and in this project we have used the same and tried to build a neural network that recognises those digits."
   ]
  },
  {
   "cell_type": "code",
   "execution_count": 483,
   "metadata": {},
   "outputs": [],
   "source": [
    "import numpy as np\n",
    "import pandas as pd\n",
    "import matplotlib.pyplot as plt\n",
    "from PIL import Image\n",
    "%matplotlib inline"
   ]
  },
  {
   "cell_type": "code",
   "execution_count": 484,
   "metadata": {},
   "outputs": [],
   "source": [
    "train_data = pd.DataFrame(pd.read_csv('train.csv'))"
   ]
  },
  {
   "cell_type": "code",
   "execution_count": 485,
   "metadata": {},
   "outputs": [],
   "source": [
    "train_data.head()\n",
    "label_data = train_data['label']\n",
    "train_data = train_data.drop(['label'],axis=1)"
   ]
  },
  {
   "cell_type": "code",
   "execution_count": 486,
   "metadata": {},
   "outputs": [
    {
     "data": {
      "text/plain": [
       "(42000, 784)"
      ]
     },
     "execution_count": 486,
     "metadata": {},
     "output_type": "execute_result"
    }
   ],
   "source": [
    "train_data_copy = train_data\n",
    "train_data.shape"
   ]
  },
  {
   "cell_type": "code",
   "execution_count": 487,
   "metadata": {},
   "outputs": [
    {
     "name": "stdout",
     "output_type": "stream",
     "text": [
      "Rows : 42000, Columns : 784\n"
     ]
    }
   ],
   "source": [
    "[M,N] = train_data.shape\n",
    "print(\"Rows : {}, Columns : {}\".format(M,N))"
   ]
  },
  {
   "cell_type": "code",
   "execution_count": 488,
   "metadata": {},
   "outputs": [
    {
     "data": {
      "text/plain": [
       "<matplotlib.image.AxesImage at 0x7f5bc8aa6d50>"
      ]
     },
     "execution_count": 488,
     "metadata": {},
     "output_type": "execute_result"
    },
    {
     "data": {
      "image/png": "[encoded data removed]",
      "text/plain": [
       "<Figure size 432x288 with 1 Axes>"
      ]
     },
     "metadata": {
      "needs_background": "light"
     },
     "output_type": "display_data"
    }
   ],
   "source": [
    "first_digit = train_data_copy.loc[21]\n",
    "first_digit = np.array(first_digit)\n",
    "first_digit = first_digit.reshape((28,28))\n",
    "plt.imshow(first_digit, cmap='gray')"
   ]
  },
  {
   "cell_type": "code",
   "execution_count": 489,
   "metadata": {},
   "outputs": [],
   "source": [
    "import tensorflow as tf\n",
    "from keras.models import Sequential\n",
    "from keras.layers import Dense\n",
    "from keras.activations import linear,sigmoid"
   ]
  },
  {
   "cell_type": "code",
   "execution_count": 490,
   "metadata": {},
   "outputs": [
    {
     "name": "stdout",
     "output_type": "stream",
     "text": [
      "<class 'numpy.ndarray'>\n"
     ]
    }
   ],
   "source": [
    "train_data = np.array(train_data)\n",
    "print(type(train_data))"
   ]
  },
  {
   "cell_type": "code",
   "execution_count": 491,
   "metadata": {},
   "outputs": [
    {
     "data": {
      "text/plain": [
       "array([[0, 0, 0, ..., 0, 0, 0],\n",
       "       [0, 0, 0, ..., 0, 0, 0],\n",
       "       [0, 0, 0, ..., 0, 0, 0],\n",
       "       ...,\n",
       "       [0, 0, 0, ..., 0, 0, 0],\n",
       "       [0, 0, 0, ..., 0, 0, 0],\n",
       "       [0, 0, 0, ..., 0, 0, 0]])"
      ]
     },
     "execution_count": 491,
     "metadata": {},
     "output_type": "execute_result"
    }
   ],
   "source": [
    "train_data"
   ]
  },
  {
   "cell_type": "code",
   "execution_count": 492,
   "metadata": {},
   "outputs": [],
   "source": [
    "train_data = train_data.reshape(M,28,28)"
   ]
  },
  {
   "cell_type": "code",
   "execution_count": 493,
   "metadata": {},
   "outputs": [
    {
     "name": "stdout",
     "output_type": "stream",
     "text": [
      "(28, 28)\n",
      "[[  0   0   0   0   0   0   0   0   0   0   0   0   0   0   0   0   0   0\n",
      "    0   0   0   0   0   0   0   0   0   0]\n",
      " [  0   0   0   0   0   0   0   0   0   0   0   0   0   0   0   0   0   0\n",
      "    0   0   0   0   0   0   0   0   0   0]\n",
      " [  0   0   0   0   0   0   0   0   0   0   0   0   0   0   0   0   0   0\n",
      "    0   0   0   0   0   0   0   0   0   0]\n",
      " [  0   0   0   0   0   0   0   0   0   0   0   0   0   0   0   0   0   0\n",
      "    0   0   0   0   0   0   0   0   0   0]\n",
      " [  0   0   0   0   0   0   0   0   0   0  18  30 137 137 192  86  72   1\n",
      "    0   0   0   0   0   0   0   0   0   0]\n",
      " [  0   0   0   0   0   0   0   0  13  86 250 254 254 254 254 217 246 151\n",
      "   32   0   0   0   0   0   0   0   0   0]\n",
      " [  0   0   0   0   0   0   0  16 179 254 254 254 254 254 254 254 254 254\n",
      "  231  54  15   0   0   0   0   0   0   0]\n",
      " [  0   0   0   0   0   0   0  72 254 254 254 254 254 254 254 254 254 254\n",
      "  254 254 104   0   0   0   0   0   0   0]\n",
      " [  0   0   0   0   0   0  61 191 254 254 254 254 254 109  83 199 254 254\n",
      "  254 254 243  85   0   0   0   0   0   0]\n",
      " [  0   0   0   0   0   0 172 254 254 254 202 147 147  45   0  11  29 200\n",
      "  254 254 254 171   0   0   0   0   0   0]\n",
      " [  0   0   0   0   0   1 174 254 254  89  67   0   0   0   0   0   0 128\n",
      "  252 254 254 212  76   0   0   0   0   0]\n",
      " [  0   0   0   0   0  47 254 254 254  29   0   0   0   0   0   0   0   0\n",
      "   83 254 254 254 153   0   0   0   0   0]\n",
      " [  0   0   0   0   0  80 254 254 240  24   0   0   0   0   0   0   0   0\n",
      "   25 240 254 254 153   0   0   0   0   0]\n",
      " [  0   0   0   0   0  64 254 254 186   7   0   0   0   0   0   0   0   0\n",
      "    0 166 254 254 224  12   0   0   0   0]\n",
      " [  0   0   0   0  14 232 254 254 254  29   0   0   0   0   0   0   0   0\n",
      "    0  75 254 254 254  17   0   0   0   0]\n",
      " [  0   0   0   0  18 254 254 254 254  29   0   0   0   0   0   0   0   0\n",
      "    0  48 254 254 254  17   0   0   0   0]\n",
      " [  0   0   0   0   2 163 254 254 254  29   0   0   0   0   0   0   0   0\n",
      "    0  48 254 254 254  17   0   0   0   0]\n",
      " [  0   0   0   0   0  94 254 254 254 200  12   0   0   0   0   0   0   0\n",
      "   16 209 254 254 150   1   0   0   0   0]\n",
      " [  0   0   0   0   0  15 206 254 254 254 202  66   0   0   0   0   0  21\n",
      "  161 254 254 245  31   0   0   0   0   0]\n",
      " [  0   0   0   0   0   0  60 212 254 254 254 194  48  48  34  41  48 209\n",
      "  254 254 254 171   0   0   0   0   0   0]\n",
      " [  0   0   0   0   0   0   0  86 243 254 254 254 254 254 233 243 254 254\n",
      "  254 254 254  86   0   0   0   0   0   0]\n",
      " [  0   0   0   0   0   0   0   0 114 254 254 254 254 254 254 254 254 254\n",
      "  254 239  86  11   0   0   0   0   0   0]\n",
      " [  0   0   0   0   0   0   0   0  13 182 254 254 254 254 254 254 254 254\n",
      "  243  70   0   0   0   0   0   0   0   0]\n",
      " [  0   0   0   0   0   0   0   0   0   8  76 146 254 255 254 255 146  19\n",
      "   15   0   0   0   0   0   0   0   0   0]\n",
      " [  0   0   0   0   0   0   0   0   0   0   0   0   0   0   0   0   0   0\n",
      "    0   0   0   0   0   0   0   0   0   0]\n",
      " [  0   0   0   0   0   0   0   0   0   0   0   0   0   0   0   0   0   0\n",
      "    0   0   0   0   0   0   0   0   0   0]\n",
      " [  0   0   0   0   0   0   0   0   0   0   0   0   0   0   0   0   0   0\n",
      "    0   0   0   0   0   0   0   0   0   0]\n",
      " [  0   0   0   0   0   0   0   0   0   0   0   0   0   0   0   0   0   0\n",
      "    0   0   0   0   0   0   0   0   0   0]]\n"
     ]
    }
   ],
   "source": [
    "print(train_data[1].shape)\n",
    "print(train_data[1])"
   ]
  },
  {
   "cell_type": "code",
   "execution_count": 494,
   "metadata": {},
   "outputs": [],
   "source": [
    "train_data = train_data.reshape(M,N)"
   ]
  },
  {
   "cell_type": "code",
   "execution_count": 495,
   "metadata": {},
   "outputs": [
    {
     "data": {
      "text/plain": [
       "array([[0., 1., 0., ..., 0., 0., 0.],\n",
       "       [1., 0., 0., ..., 0., 0., 0.],\n",
       "       [0., 1., 0., ..., 0., 0., 0.],\n",
       "       ...,\n",
       "       [0., 0., 0., ..., 1., 0., 0.],\n",
       "       [0., 0., 0., ..., 0., 0., 0.],\n",
       "       [0., 0., 0., ..., 0., 0., 1.]])"
      ]
     },
     "execution_count": 495,
     "metadata": {},
     "output_type": "execute_result"
    }
   ],
   "source": [
    "label_data = np.array(label_data)\n",
    "new_label_data = np.zeros((M,10))\n",
    "for i in range(M) :\n",
    "    new_label_data[i][label_data[i]] = 1\n",
    "new_label_data"
   ]
  },
  {
   "cell_type": "code",
   "execution_count": 496,
   "metadata": {},
   "outputs": [],
   "source": [
    "digit_recog_model = Sequential(\n",
    "    [\n",
    "        Dense(784,activation='sigmoid'),\n",
    "        Dense(25,activation='sigmoid'),\n",
    "        Dense(20,activation='sigmoid'),\n",
    "        Dense(10,activation='sigmoid')\n",
    "    ]\n",
    ")"
   ]
  },
  {
   "cell_type": "code",
   "execution_count": 497,
   "metadata": {},
   "outputs": [],
   "source": [
    "digit_recog_model.compile(optimizer=tf.keras.optimizers.Adam(learning_rate=0.001),loss=tf.keras.losses.BinaryCrossentropy())"
   ]
  },
  {
   "cell_type": "code",
   "execution_count": 498,
   "metadata": {},
   "outputs": [
    {
     "name": "stdout",
     "output_type": "stream",
     "text": [
      "Epoch 1/100\n",
      "1313/1313 [==============================] - 10s 7ms/step - loss: 0.2722\n",
      "Epoch 2/100\n",
      "1313/1313 [==============================] - 9s 7ms/step - loss: 0.1126\n",
      "Epoch 3/100\n",
      "1313/1313 [==============================] - 9s 7ms/step - loss: 0.0693\n",
      "Epoch 4/100\n",
      "1313/1313 [==============================] - 10s 7ms/step - loss: 0.0567\n",
      "Epoch 5/100\n",
      "1313/1313 [==============================] - 10s 7ms/step - loss: 0.0503\n",
      "Epoch 6/100\n",
      "1313/1313 [==============================] - 10s 7ms/step - loss: 0.0453\n",
      "Epoch 7/100\n",
      "1313/1313 [==============================] - 10s 7ms/step - loss: 0.0428\n",
      "Epoch 8/100\n",
      "1313/1313 [==============================] - 10s 7ms/step - loss: 0.0414\n",
      "Epoch 9/100\n",
      "1313/1313 [==============================] - 10s 7ms/step - loss: 0.0392\n",
      "Epoch 10/100\n",
      "1313/1313 [==============================] - 13s 10ms/step - loss: 0.0384\n",
      "Epoch 11/100\n",
      "1313/1313 [==============================] - 13s 10ms/step - loss: 0.0369\n",
      "Epoch 12/100\n",
      "1313/1313 [==============================] - 11s 8ms/step - loss: 0.0362\n",
      "Epoch 13/100\n",
      "1313/1313 [==============================] - 9s 7ms/step - loss: 0.0354\n",
      "Epoch 14/100\n",
      "1313/1313 [==============================] - 11s 9ms/step - loss: 0.0350\n",
      "Epoch 15/100\n",
      "1313/1313 [==============================] - 13s 10ms/step - loss: 0.0360\n",
      "Epoch 16/100\n",
      "1313/1313 [==============================] - 12s 9ms/step - loss: 0.0333\n",
      "Epoch 17/100\n",
      "1313/1313 [==============================] - 13s 10ms/step - loss: 0.0331\n",
      "Epoch 18/100\n",
      "1313/1313 [==============================] - 9s 7ms/step - loss: 0.0326\n",
      "Epoch 19/100\n",
      "1313/1313 [==============================] - 10s 8ms/step - loss: 0.0311\n",
      "Epoch 20/100\n",
      "1313/1313 [==============================] - 9s 7ms/step - loss: 0.0304\n",
      "Epoch 21/100\n",
      "1313/1313 [==============================] - 10s 7ms/step - loss: 0.0309\n",
      "Epoch 22/100\n",
      "1313/1313 [==============================] - 10s 7ms/step - loss: 0.0304\n",
      "Epoch 23/100\n",
      "1313/1313 [==============================] - 10s 7ms/step - loss: 0.0301\n",
      "Epoch 24/100\n",
      "1313/1313 [==============================] - 10s 8ms/step - loss: 0.0283\n",
      "Epoch 25/100\n",
      "1313/1313 [==============================] - 10s 7ms/step - loss: 0.0293\n",
      "Epoch 26/100\n",
      "1313/1313 [==============================] - 10s 7ms/step - loss: 0.0293\n",
      "Epoch 27/100\n",
      "1313/1313 [==============================] - 10s 7ms/step - loss: 0.0293\n",
      "Epoch 28/100\n",
      "1313/1313 [==============================] - 11s 9ms/step - loss: 0.0295\n",
      "Epoch 29/100\n",
      "1313/1313 [==============================] - 11s 9ms/step - loss: 0.0285\n",
      "Epoch 30/100\n",
      "1313/1313 [==============================] - 11s 9ms/step - loss: 0.0284\n",
      "Epoch 31/100\n",
      "1313/1313 [==============================] - 11s 8ms/step - loss: 0.0288\n",
      "Epoch 32/100\n",
      "1313/1313 [==============================] - 11s 8ms/step - loss: 0.0280\n",
      "Epoch 33/100\n",
      "1313/1313 [==============================] - 11s 9ms/step - loss: 0.0283\n",
      "Epoch 34/100\n",
      "1313/1313 [==============================] - 13s 10ms/step - loss: 0.0270\n",
      "Epoch 35/100\n",
      "1313/1313 [==============================] - 11s 9ms/step - loss: 0.0269\n",
      "Epoch 36/100\n",
      "1313/1313 [==============================] - 11s 8ms/step - loss: 0.0266\n",
      "Epoch 37/100\n",
      "1313/1313 [==============================] - 11s 9ms/step - loss: 0.0269\n",
      "Epoch 38/100\n",
      "1313/1313 [==============================] - 13s 10ms/step - loss: 0.0266\n",
      "Epoch 39/100\n",
      "1313/1313 [==============================] - 11s 8ms/step - loss: 0.0269\n",
      "Epoch 40/100\n",
      "1313/1313 [==============================] - 9s 7ms/step - loss: 0.0262\n",
      "Epoch 41/100\n",
      "1313/1313 [==============================] - 9s 7ms/step - loss: 0.0263\n",
      "Epoch 42/100\n",
      "1313/1313 [==============================] - 9s 7ms/step - loss: 0.0252\n",
      "Epoch 43/100\n",
      "1313/1313 [==============================] - 9s 7ms/step - loss: 0.0252\n",
      "Epoch 44/100\n",
      "1313/1313 [==============================] - 9s 7ms/step - loss: 0.0255\n",
      "Epoch 45/100\n",
      "1313/1313 [==============================] - 9s 7ms/step - loss: 0.0250\n",
      "Epoch 46/100\n",
      "1313/1313 [==============================] - 9s 7ms/step - loss: 0.0245\n",
      "Epoch 47/100\n",
      "1313/1313 [==============================] - 9s 7ms/step - loss: 0.0232\n",
      "Epoch 48/100\n",
      "1313/1313 [==============================] - 10s 8ms/step - loss: 0.0237\n",
      "Epoch 49/100\n",
      "1313/1313 [==============================] - 10s 7ms/step - loss: 0.0241\n",
      "Epoch 50/100\n",
      "1313/1313 [==============================] - 10s 8ms/step - loss: 0.0238\n",
      "Epoch 51/100\n",
      "1313/1313 [==============================] - 10s 8ms/step - loss: 0.0235\n",
      "Epoch 52/100\n",
      "1313/1313 [==============================] - 10s 8ms/step - loss: 0.0243\n",
      "Epoch 53/100\n",
      "1313/1313 [==============================] - 10s 8ms/step - loss: 0.0240\n",
      "Epoch 54/100\n",
      "1313/1313 [==============================] - 10s 8ms/step - loss: 0.0234\n",
      "Epoch 55/100\n",
      "1313/1313 [==============================] - 10s 8ms/step - loss: 0.0236\n",
      "Epoch 56/100\n",
      "1313/1313 [==============================] - 10s 8ms/step - loss: 0.0236\n",
      "Epoch 57/100\n",
      "1313/1313 [==============================] - 10s 8ms/step - loss: 0.0236\n",
      "Epoch 58/100\n",
      "1313/1313 [==============================] - 11s 8ms/step - loss: 0.0245\n",
      "Epoch 59/100\n",
      "1313/1313 [==============================] - 11s 9ms/step - loss: 0.0242\n",
      "Epoch 60/100\n",
      "1313/1313 [==============================] - 11s 8ms/step - loss: 0.0238\n",
      "Epoch 61/100\n",
      "1313/1313 [==============================] - 9s 7ms/step - loss: 0.0235\n",
      "Epoch 62/100\n",
      "1313/1313 [==============================] - 13s 10ms/step - loss: 0.0230\n",
      "Epoch 63/100\n",
      "1313/1313 [==============================] - 11s 8ms/step - loss: 0.0236\n",
      "Epoch 64/100\n",
      "1313/1313 [==============================] - 10s 7ms/step - loss: 0.0234\n",
      "Epoch 65/100\n",
      "1313/1313 [==============================] - 11s 8ms/step - loss: 0.0232\n",
      "Epoch 66/100\n",
      "1313/1313 [==============================] - 10s 8ms/step - loss: 0.0252\n",
      "Epoch 67/100\n",
      "1313/1313 [==============================] - 10s 8ms/step - loss: 0.0259\n",
      "Epoch 68/100\n",
      "1313/1313 [==============================] - 10s 8ms/step - loss: 0.0249\n",
      "Epoch 69/100\n",
      "1313/1313 [==============================] - 10s 8ms/step - loss: 0.0241\n",
      "Epoch 70/100\n",
      "1313/1313 [==============================] - 10s 8ms/step - loss: 0.0239\n",
      "Epoch 71/100\n",
      "1313/1313 [==============================] - 10s 8ms/step - loss: 0.0230\n",
      "Epoch 72/100\n",
      "1313/1313 [==============================] - 12s 9ms/step - loss: 0.0228\n",
      "Epoch 73/100\n",
      "1313/1313 [==============================] - 15s 11ms/step - loss: 0.0230\n",
      "Epoch 74/100\n",
      "1313/1313 [==============================] - 15s 12ms/step - loss: 0.0223\n",
      "Epoch 75/100\n",
      "1313/1313 [==============================] - 17s 13ms/step - loss: 0.0220\n",
      "Epoch 76/100\n",
      "1313/1313 [==============================] - 13s 10ms/step - loss: 0.0227\n",
      "Epoch 77/100\n",
      "1313/1313 [==============================] - 15s 11ms/step - loss: 0.0221\n",
      "Epoch 78/100\n",
      "1313/1313 [==============================] - 14s 10ms/step - loss: 0.0221\n",
      "Epoch 79/100\n",
      "1313/1313 [==============================] - 10s 8ms/step - loss: 0.0229\n",
      "Epoch 80/100\n",
      "1313/1313 [==============================] - 9s 7ms/step - loss: 0.0225\n",
      "Epoch 81/100\n",
      "1313/1313 [==============================] - 9s 7ms/step - loss: 0.0221\n",
      "Epoch 82/100\n",
      "1313/1313 [==============================] - 9s 7ms/step - loss: 0.0217\n",
      "Epoch 83/100\n",
      "1313/1313 [==============================] - 10s 7ms/step - loss: 0.0215\n",
      "Epoch 84/100\n",
      "1313/1313 [==============================] - 11s 8ms/step - loss: 0.0209\n",
      "Epoch 85/100\n",
      "1313/1313 [==============================] - 12s 9ms/step - loss: 0.0206\n",
      "Epoch 86/100\n",
      "1313/1313 [==============================] - 11s 8ms/step - loss: 0.0209\n",
      "Epoch 87/100\n",
      "1313/1313 [==============================] - 11s 8ms/step - loss: 0.0210\n",
      "Epoch 88/100\n",
      "1313/1313 [==============================] - 11s 9ms/step - loss: 0.0213\n",
      "Epoch 89/100\n",
      "1313/1313 [==============================] - 11s 8ms/step - loss: 0.0205\n",
      "Epoch 90/100\n",
      "1313/1313 [==============================] - 11s 8ms/step - loss: 0.0200\n",
      "Epoch 91/100\n",
      "1313/1313 [==============================] - 9s 7ms/step - loss: 0.0194\n",
      "Epoch 92/100\n",
      "1313/1313 [==============================] - 9s 7ms/step - loss: 0.0198\n",
      "Epoch 93/100\n",
      "1313/1313 [==============================] - 9s 7ms/step - loss: 0.0203\n",
      "Epoch 94/100\n",
      "1313/1313 [==============================] - 9s 7ms/step - loss: 0.0202\n",
      "Epoch 95/100\n",
      "1313/1313 [==============================] - 10s 8ms/step - loss: 0.0196\n",
      "Epoch 96/100\n"
     ]
    },
    {
     "name": "stdout",
     "output_type": "stream",
     "text": [
      "1313/1313 [==============================] - 9s 7ms/step - loss: 0.0196\n",
      "Epoch 97/100\n",
      "1313/1313 [==============================] - 9s 7ms/step - loss: 0.0201\n",
      "Epoch 98/100\n",
      "1313/1313 [==============================] - 9s 7ms/step - loss: 0.0203\n",
      "Epoch 99/100\n",
      "1313/1313 [==============================] - 9s 7ms/step - loss: 0.0213\n",
      "Epoch 100/100\n",
      "1313/1313 [==============================] - 9s 7ms/step - loss: 0.0205\n"
     ]
    },
    {
     "data": {
      "text/plain": [
       "<keras.callbacks.History at 0x7f5bc83c5a10>"
      ]
     },
     "execution_count": 498,
     "metadata": {},
     "output_type": "execute_result"
    }
   ],
   "source": [
    "digit_recog_model.fit(train_data,new_label_data,epochs=100)"
   ]
  },
  {
   "cell_type": "code",
   "execution_count": 499,
   "metadata": {},
   "outputs": [
    {
     "name": "stdout",
     "output_type": "stream",
     "text": [
      "1313/1313 [==============================] - 6s 4ms/step\n"
     ]
    },
    {
     "data": {
      "text/plain": [
       "array([[3.0614307e-09, 9.9938387e-01, 6.9018621e-05, ..., 1.3965485e-04,\n",
       "        7.7545457e-04, 8.0230575e-07],\n",
       "       [9.9756163e-01, 2.6751326e-08, 6.9769326e-04, ..., 1.1524387e-03,\n",
       "        1.9131801e-05, 1.9106771e-04],\n",
       "       [8.6348209e-09, 9.9849498e-01, 3.8468302e-04, ..., 6.0375802e-05,\n",
       "        4.4663969e-04, 4.9703948e-07],\n",
       "       ...,\n",
       "       [2.0099538e-04, 3.8839258e-05, 3.0187990e-05, ..., 9.9733371e-01,\n",
       "        2.8544559e-08, 3.6430191e-03],\n",
       "       [5.6981386e-05, 2.0100572e-04, 4.8224680e-05, ..., 2.0028168e-05,\n",
       "        1.1927668e-03, 2.2401757e-06],\n",
       "       [3.8169190e-05, 2.9164626e-06, 1.3201124e-03, ..., 7.7153899e-02,\n",
       "        3.5944752e-02, 8.1078446e-01]], dtype=float32)"
      ]
     },
     "execution_count": 499,
     "metadata": {},
     "output_type": "execute_result"
    }
   ],
   "source": [
    "predicts = digit_recog_model.predict(train_data)\n",
    "predicts"
   ]
  },
  {
   "cell_type": "code",
   "execution_count": 500,
   "metadata": {},
   "outputs": [],
   "source": [
    "result_convert = np.zeros(M)\n",
    "for i in range(M):\n",
    "    result_convert[i] = np.argmax(predicts[i],axis=0)\n",
    "result_convert = result_convert.astype(int)"
   ]
  },
  {
   "cell_type": "code",
   "execution_count": 501,
   "metadata": {},
   "outputs": [
    {
     "name": "stdout",
     "output_type": "stream",
     "text": [
      "Acuracy Of The Model On Train Data : 96.8452380952381\n"
     ]
    }
   ],
   "source": [
    "acc = 0\n",
    "for i in range(M):\n",
    "    if result_convert[i]==label_data[i]:\n",
    "        acc+=1\n",
    "print(\"Acuracy Of The Model On Train Data : {}\".format((acc*100.00)/M))"
   ]
  },
  {
   "cell_type": "code",
   "execution_count": 502,
   "metadata": {},
   "outputs": [
    {
     "data": {
      "image/png": "[encoded data removed]",
      "text/plain": [
       "<Figure size 720x576 with 20 Axes>"
      ]
     },
     "metadata": {
      "needs_background": "light"
     },
     "output_type": "display_data"
    }
   ],
   "source": [
    "num_row = 4\n",
    "num_col = 5\n",
    "num = 20\n",
    "fig, axes = plt.subplots(num_row, num_col, figsize=(2*num_col,2*num_row))\n",
    "for i in range(num):\n",
    "    ax = axes[i//num_col, i%num_col]\n",
    "    ax.imshow(train_data[i].reshape((28,28)), cmap='gray_r')\n",
    "    ax.set_title('{},{}'.format(label_data[i],result_convert[i]))\n",
    "plt.tight_layout()\n",
    "plt.show()"
   ]
  },
  {
   "cell_type": "code",
   "execution_count": 503,
   "metadata": {},
   "outputs": [
    {
     "name": "stdout",
     "output_type": "stream",
     "text": [
      "875/875 [==============================] - 4s 4ms/step\n"
     ]
    }
   ],
   "source": [
    "# Testing On Test Data\n",
    "test_data = pd.read_csv('test.csv')\n",
    "test_data\n",
    "test_data = pd.DataFrame(test_data)\n",
    "test_data = np.array(test_data)\n",
    "predicts = digit_recog_model.predict(test_data)"
   ]
  },
  {
   "cell_type": "code",
   "execution_count": 504,
   "metadata": {},
   "outputs": [],
   "source": [
    "result_convert = np.zeros((test_data.shape[0],2))\n",
    "for i in range(test_data.shape[0]):\n",
    "    result_convert[i][1] = np.argmax(predicts[i],axis=0)\n",
    "    result_convert[i][0] = i+1\n",
    "result_convert = result_convert.astype(int)"
   ]
  },
  {
   "cell_type": "code",
   "execution_count": 505,
   "metadata": {},
   "outputs": [
    {
     "data": {
      "image/png": "[encoded data removed]",
      "text/plain": [
       "<Figure size 720x576 with 20 Axes>"
      ]
     },
     "metadata": {
      "needs_background": "light"
     },
     "output_type": "display_data"
    }
   ],
   "source": [
    "num_row = 4\n",
    "num_col = 5\n",
    "num = 20\n",
    "fig, axes = plt.subplots(num_row, num_col, figsize=(2*num_col,2*num_row))\n",
    "for i in range(num):\n",
    "    ax = axes[i//num_col, i%num_col]\n",
    "    ax.imshow(test_data[i].reshape((28,28)), cmap='gray_r')\n",
    "    ax.set_title('{}'.format(result_convert[i][1]))\n",
    "plt.tight_layout()\n",
    "plt.show()"
   ]
  },
  {
   "cell_type": "code",
   "execution_count": 506,
   "metadata": {},
   "outputs": [],
   "source": [
    "import csv\n",
    "header = ['ImageId','Label']\n",
    "with open('predictions.csv','w',encoding='UTF8',newline='') as f :\n",
    "    writer = csv.writer(f)\n",
    "    writer.writerow(header)\n",
    "    writer.writerows(result_convert)"
   ]
  },
  {
   "cell_type": "markdown",
   "metadata": {},
   "source": [
    "# Thank You"
   ]
  }
 ],
 "metadata": {
  "kernelspec": {
   "display_name": "Python 3",
   "language": "python",
   "name": "python3"
  },
  "language_info": {
   "codemirror_mode": {
    "name": "ipython",
    "version": 3
   },
   "file_extension": ".py",
   "mimetype": "text/x-python",
   "name": "python",
   "nbconvert_exporter": "python",
   "pygments_lexer": "ipython3",
   "version": "3.7.6"
  }
 },
 "nbformat": 4,
 "nbformat_minor": 2
}
